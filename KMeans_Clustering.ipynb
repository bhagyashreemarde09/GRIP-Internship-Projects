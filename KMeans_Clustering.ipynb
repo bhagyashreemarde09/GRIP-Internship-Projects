{
 "cells": [
  {
   "cell_type": "code",
   "execution_count": 1,
   "metadata": {},
   "outputs": [],
   "source": [
    "import pandas as pd\n",
    "import numpy as np\n",
    "import matplotlib.pyplot as plt\n",
    "from sklearn.model_selection import train_test_split\n",
    "from sklearn import preprocessing\n",
    "from sklearn.cluster import KMeans\n"
   ]
  },
  {
   "cell_type": "code",
   "execution_count": 2,
   "metadata": {},
   "outputs": [
    {
     "data": {
      "text/html": [
       "<div>\n",
       "<style scoped>\n",
       "    .dataframe tbody tr th:only-of-type {\n",
       "        vertical-align: middle;\n",
       "    }\n",
       "\n",
       "    .dataframe tbody tr th {\n",
       "        vertical-align: top;\n",
       "    }\n",
       "\n",
       "    .dataframe thead th {\n",
       "        text-align: right;\n",
       "    }\n",
       "</style>\n",
       "<table border=\"1\" class=\"dataframe\">\n",
       "  <thead>\n",
       "    <tr style=\"text-align: right;\">\n",
       "      <th></th>\n",
       "      <th>SepalLengthCm</th>\n",
       "      <th>SepalWidthCm</th>\n",
       "      <th>PetalLengthCm</th>\n",
       "      <th>PetalWidthCm</th>\n",
       "    </tr>\n",
       "  </thead>\n",
       "  <tbody>\n",
       "    <tr>\n",
       "      <th>0</th>\n",
       "      <td>5.1</td>\n",
       "      <td>3.5</td>\n",
       "      <td>1.4</td>\n",
       "      <td>0.2</td>\n",
       "    </tr>\n",
       "    <tr>\n",
       "      <th>1</th>\n",
       "      <td>4.9</td>\n",
       "      <td>3.0</td>\n",
       "      <td>1.4</td>\n",
       "      <td>0.2</td>\n",
       "    </tr>\n",
       "    <tr>\n",
       "      <th>2</th>\n",
       "      <td>4.7</td>\n",
       "      <td>3.2</td>\n",
       "      <td>1.3</td>\n",
       "      <td>0.2</td>\n",
       "    </tr>\n",
       "    <tr>\n",
       "      <th>3</th>\n",
       "      <td>4.6</td>\n",
       "      <td>3.1</td>\n",
       "      <td>1.5</td>\n",
       "      <td>0.2</td>\n",
       "    </tr>\n",
       "    <tr>\n",
       "      <th>4</th>\n",
       "      <td>5.0</td>\n",
       "      <td>3.6</td>\n",
       "      <td>1.4</td>\n",
       "      <td>0.2</td>\n",
       "    </tr>\n",
       "  </tbody>\n",
       "</table>\n",
       "</div>"
      ],
      "text/plain": [
       "   SepalLengthCm  SepalWidthCm  PetalLengthCm  PetalWidthCm\n",
       "0            5.1           3.5            1.4           0.2\n",
       "1            4.9           3.0            1.4           0.2\n",
       "2            4.7           3.2            1.3           0.2\n",
       "3            4.6           3.1            1.5           0.2\n",
       "4            5.0           3.6            1.4           0.2"
      ]
     },
     "execution_count": 2,
     "metadata": {},
     "output_type": "execute_result"
    }
   ],
   "source": [
    "df = pd.read_csv(\"C:/Users/admin/GRIP Internship Tasks/Task2_Clustering/Iris_dataset.csv\")\n",
    "df = df.drop(columns={\"Id\", \"Species\"}, axis=1).dropna()\n",
    "df.head()"
   ]
  },
  {
   "cell_type": "markdown",
   "metadata": {},
   "source": [
    "## Standardizing cluster variables to have Mean = 0 and Standard Deviation = 1"
   ]
  },
  {
   "cell_type": "code",
   "execution_count": 5,
   "metadata": {},
   "outputs": [],
   "source": [
    "clustervar = df.copy()\n",
    "clustervar['SepalLengthCm'] = preprocessing.scale(clustervar['SepalLengthCm'].astype('float64'))\n",
    "clustervar['SepalWidthCm'] = preprocessing.scale(clustervar['SepalWidthCm'].astype('float64'))\n",
    "clustervar['PetalLengthCm'] = preprocessing.scale(clustervar['PetalLengthCm'].astype('float64'))\n",
    "clustervar['PetalWidthCm'] = preprocessing.scale(clustervar['PetalWidthCm'].astype('float64'))\n"
   ]
  },
  {
   "cell_type": "markdown",
   "metadata": {},
   "source": [
    "## Splitting data into train and test sets"
   ]
  },
  {
   "cell_type": "code",
   "execution_count": 7,
   "metadata": {},
   "outputs": [],
   "source": [
    "# 0.3 means storing 30% of data in test dataset, random_state insures that data are randomly split the same way if we run the code again \n",
    "clus_train, clus_test = train_test_split(clustervar, test_size=0.3, random_state=123) \n"
   ]
  },
  {
   "cell_type": "markdown",
   "metadata": {},
   "source": [
    "## KMeans cluster analysis"
   ]
  },
  {
   "cell_type": "code",
   "execution_count": 10,
   "metadata": {},
   "outputs": [],
   "source": [
    "from scipy.spatial.distance import cdist # used to calculate avaerage distance from clusters to cenroids\n",
    "clusters = range(1, 10)     # will use this object when we specify the number of clusters we want to test\n",
    "meandist = []         # used to store the average distance value that we will calculate for 1-9 cluster solutions\n",
    "\n",
    "for k in clusters:\n",
    "    model = KMeans(n_clusters = k)\n",
    "    model.fit(clus_train)\n",
    "    clusassign = model.predict(clus_train)   # clusassign stores each observation the cluster number to which it was assigned based on the cluster analysis\n",
    "    meandist.append(sum(np.min(cdist(clus_train, model.cluster_centers_, 'euclidean'), axis=1)) / clus_train.shape[0])\n",
    "    "
   ]
  },
  {
   "cell_type": "markdown",
   "metadata": {},
   "source": [
    "## Plotting the elbow curve"
   ]
  },
  {
   "cell_type": "code",
   "execution_count": 52,
   "metadata": {},
   "outputs": [
    {
     "data": {
      "text/plain": [
       "Text(0.5, 1.0, 'Selecting k with the Elbow Method')"
      ]
     },
     "execution_count": 52,
     "metadata": {},
     "output_type": "execute_result"
    },
    {
     "data": {
      "image/png": "[encoded data removed]",
      "text/plain": [
       "<Figure size 576x432 with 1 Axes>"
      ]
     },
     "metadata": {
      "needs_background": "light"
     },
     "output_type": "display_data"
    }
   ],
   "source": [
    "plt.figure(figsize=(8,6))\n",
    "plt.plot(clusters, meandist)\n",
    "plt.xlabel('Number of clusters')\n",
    "plt.ylabel('Average Distance')\n",
    "plt.title('Selecting k with the Elbow Method')\n",
    "\n",
    "# Average distnace decreases as the number of clsuetrs increases\n",
    "# The goal of cluster analysis is to minimize the distance between observations and their assigned clusters"
   ]
  },
  {
   "cell_type": "markdown",
   "metadata": {},
   "source": [
    "#### - In the above graph, there are 3 bends, but the 3rd bend is not very clear, which suggests that there might be 2 clusters. We also do not want overlapping clusters."
   ]
  },
  {
   "cell_type": "markdown",
   "metadata": {},
   "source": [
    "## Interpreting 3 cluster solution"
   ]
  },
  {
   "cell_type": "code",
   "execution_count": 13,
   "metadata": {},
   "outputs": [],
   "source": [
    "model = KMeans(n_clusters = 3)\n",
    "model.fit(clus_train)\n",
    "clusassign = model.predict(clus_train)"
   ]
  },
  {
   "cell_type": "markdown",
   "metadata": {},
   "source": [
    "## Plotting the Clusters"
   ]
  },
  {
   "cell_type": "code",
   "execution_count": 33,
   "metadata": {},
   "outputs": [
    {
     "data": {
      "image/png": "[encoded data removed]",
      "text/plain": [
       "<Figure size 576x432 with 1 Axes>"
      ]
     },
     "metadata": {
      "needs_background": "light"
     },
     "output_type": "display_data"
    }
   ],
   "source": [
    "from sklearn.decomposition import PCA  #  to conduct Canonical Discriminate Analysis\n",
    "\n",
    "pca_2 = PCA(2) # returns first 2 canonical variables\n",
    "plot_columns = pca_2.fit_transform(clus_train)\n",
    "\n",
    "plt.figure(figsize=(8,6))\n",
    "plt.scatter(x = plot_columns[:, 0], y = plot_columns[:, 1], c = model.labels_)\n",
    "plt.xlabel(\"Canonical Variable 1\")\n",
    "plt.ylabel(\"Canonical Variable 2\")\n",
    "plt.title(\"Scatterplot of Canonical Variables for 3 Clusters\")\n",
    "plt.show()\n",
    "\n",
    "#print(plot_columns)"
   ]
  },
  {
   "cell_type": "markdown",
   "metadata": {},
   "source": [
    "#### - We can see that the 2nd and 3rd clusters are overlapping, which suggets that 2 clusters solution might be better."
   ]
  },
  {
   "cell_type": "markdown",
   "metadata": {},
   "source": [
    "## Creating a unique identifier "
   ]
  },
  {
   "cell_type": "code",
   "execution_count": 34,
   "metadata": {},
   "outputs": [],
   "source": [
    "# Creating a unique identifier variable from the index for clus_train to merge with cluster assignment variables\n",
    "\n",
    "clus_train.reset_index(level = 0, inplace = True)"
   ]
  },
  {
   "cell_type": "code",
   "execution_count": 35,
   "metadata": {},
   "outputs": [],
   "source": [
    "# Creating a list that has new index variable\n",
    "\n",
    "cluslist = list(clus_train['index'])"
   ]
  },
  {
   "cell_type": "code",
   "execution_count": 36,
   "metadata": {},
   "outputs": [],
   "source": [
    "# Creating a list of Cluster assignments\n",
    "\n",
    "labels = list(model.labels_)"
   ]
  },
  {
   "cell_type": "code",
   "execution_count": 51,
   "metadata": {},
   "outputs": [
    {
     "data": {
      "text/plain": [
       "{114: 1,\n",
       " 136: 2,\n",
       " 53: 1,\n",
       " 19: 0,\n",
       " 38: 0,\n",
       " 110: 2,\n",
       " 23: 0,\n",
       " 9: 0,\n",
       " 86: 2,\n",
       " 91: 1,\n",
       " 89: 1,\n",
       " 79: 1,\n",
       " 101: 1,\n",
       " 65: 2,\n",
       " 115: 2,\n",
       " 41: 0,\n",
       " 124: 2,\n",
       " 95: 1,\n",
       " 21: 0,\n",
       " 11: 0,\n",
       " 103: 2,\n",
       " 74: 1,\n",
       " 122: 2,\n",
       " 118: 2,\n",
       " 44: 0,\n",
       " 51: 2,\n",
       " 81: 1,\n",
       " 149: 1,\n",
       " 12: 0,\n",
       " 129: 2,\n",
       " 56: 2,\n",
       " 50: 2,\n",
       " 25: 0,\n",
       " 128: 2,\n",
       " 146: 1,\n",
       " 43: 0,\n",
       " 1: 0,\n",
       " 71: 1,\n",
       " 54: 1,\n",
       " 100: 2,\n",
       " 14: 0,\n",
       " 6: 0,\n",
       " 80: 1,\n",
       " 26: 0,\n",
       " 70: 2,\n",
       " 139: 2,\n",
       " 30: 0,\n",
       " 108: 2,\n",
       " 15: 0,\n",
       " 18: 0,\n",
       " 77: 2,\n",
       " 22: 0,\n",
       " 10: 0,\n",
       " 58: 2,\n",
       " 107: 2,\n",
       " 75: 2,\n",
       " 64: 1,\n",
       " 69: 1,\n",
       " 3: 0,\n",
       " 40: 0,\n",
       " 76: 2,\n",
       " 134: 1,\n",
       " 34: 0,\n",
       " 27: 0,\n",
       " 94: 1,\n",
       " 85: 2,\n",
       " 97: 1,\n",
       " 102: 2,\n",
       " 52: 2,\n",
       " 92: 1,\n",
       " 99: 1,\n",
       " 105: 2,\n",
       " 7: 0,\n",
       " 48: 0,\n",
       " 61: 1,\n",
       " 120: 2,\n",
       " 137: 2,\n",
       " 125: 2,\n",
       " 147: 2,\n",
       " 39: 0,\n",
       " 84: 1,\n",
       " 2: 0,\n",
       " 67: 1,\n",
       " 55: 1,\n",
       " 49: 0,\n",
       " 68: 1,\n",
       " 140: 2,\n",
       " 78: 1,\n",
       " 144: 2,\n",
       " 111: 2,\n",
       " 32: 0,\n",
       " 73: 1,\n",
       " 47: 0,\n",
       " 148: 2,\n",
       " 113: 1,\n",
       " 96: 1,\n",
       " 57: 1,\n",
       " 123: 1,\n",
       " 106: 1,\n",
       " 83: 1,\n",
       " 17: 0,\n",
       " 98: 1,\n",
       " 66: 1,\n",
       " 126: 1,\n",
       " 109: 2}"
      ]
     },
     "execution_count": 51,
     "metadata": {},
     "output_type": "execute_result"
    }
   ],
   "source": [
    "# Combine index variable list with cluster assignment list into a dictionary\n",
    "newlist = dict(zip(cluslist, labels))\n",
    "newlist"
   ]
  },
  {
   "cell_type": "code",
   "execution_count": 38,
   "metadata": {},
   "outputs": [
    {
     "data": {
      "text/html": [
       "<div>\n",
       "<style scoped>\n",
       "    .dataframe tbody tr th:only-of-type {\n",
       "        vertical-align: middle;\n",
       "    }\n",
       "\n",
       "    .dataframe tbody tr th {\n",
       "        vertical-align: top;\n",
       "    }\n",
       "\n",
       "    .dataframe thead th {\n",
       "        text-align: right;\n",
       "    }\n",
       "</style>\n",
       "<table border=\"1\" class=\"dataframe\">\n",
       "  <thead>\n",
       "    <tr style=\"text-align: right;\">\n",
       "      <th></th>\n",
       "      <th>0</th>\n",
       "    </tr>\n",
       "  </thead>\n",
       "  <tbody>\n",
       "    <tr>\n",
       "      <th>114</th>\n",
       "      <td>1</td>\n",
       "    </tr>\n",
       "    <tr>\n",
       "      <th>136</th>\n",
       "      <td>2</td>\n",
       "    </tr>\n",
       "    <tr>\n",
       "      <th>53</th>\n",
       "      <td>1</td>\n",
       "    </tr>\n",
       "    <tr>\n",
       "      <th>19</th>\n",
       "      <td>0</td>\n",
       "    </tr>\n",
       "    <tr>\n",
       "      <th>38</th>\n",
       "      <td>0</td>\n",
       "    </tr>\n",
       "  </tbody>\n",
       "</table>\n",
       "</div>"
      ],
      "text/plain": [
       "     0\n",
       "114  1\n",
       "136  2\n",
       "53   1\n",
       "19   0\n",
       "38   0"
      ]
     },
     "execution_count": 38,
     "metadata": {},
     "output_type": "execute_result"
    }
   ],
   "source": [
    "# Convert newlist distionary to dataframe\n",
    "\n",
    "newclus = pd.DataFrame.from_dict(newlist, orient='index')\n",
    "newclus.head()"
   ]
  },
  {
   "cell_type": "code",
   "execution_count": 39,
   "metadata": {},
   "outputs": [],
   "source": [
    "# Doing the same for cluster assignment variables\n",
    "\n",
    "# renaming the cluster assignment column\n",
    "\n",
    "newclus.columns = ['clusters']"
   ]
  },
  {
   "cell_type": "code",
   "execution_count": 40,
   "metadata": {},
   "outputs": [],
   "source": [
    "# Creating a unique identifier variable from the index for the Cluster assignment dataframe to merge with cluster training data\n",
    "\n",
    "newclus.reset_index(level = 0, inplace = True)"
   ]
  },
  {
   "cell_type": "code",
   "execution_count": 44,
   "metadata": {},
   "outputs": [
    {
     "data": {
      "text/html": [
       "<div>\n",
       "<style scoped>\n",
       "    .dataframe tbody tr th:only-of-type {\n",
       "        vertical-align: middle;\n",
       "    }\n",
       "\n",
       "    .dataframe tbody tr th {\n",
       "        vertical-align: top;\n",
       "    }\n",
       "\n",
       "    .dataframe thead th {\n",
       "        text-align: right;\n",
       "    }\n",
       "</style>\n",
       "<table border=\"1\" class=\"dataframe\">\n",
       "  <thead>\n",
       "    <tr style=\"text-align: right;\">\n",
       "      <th></th>\n",
       "      <th>index</th>\n",
       "      <th>SepalLengthCm</th>\n",
       "      <th>SepalWidthCm</th>\n",
       "      <th>PetalLengthCm</th>\n",
       "      <th>PetalWidthCm</th>\n",
       "      <th>clusters</th>\n",
       "    </tr>\n",
       "  </thead>\n",
       "  <tbody>\n",
       "    <tr>\n",
       "      <th>0</th>\n",
       "      <td>114</td>\n",
       "      <td>-0.052506</td>\n",
       "      <td>-0.587764</td>\n",
       "      <td>0.762759</td>\n",
       "      <td>1.579429</td>\n",
       "      <td>1</td>\n",
       "    </tr>\n",
       "    <tr>\n",
       "      <th>1</th>\n",
       "      <td>136</td>\n",
       "      <td>0.553333</td>\n",
       "      <td>0.800654</td>\n",
       "      <td>1.047087</td>\n",
       "      <td>1.579429</td>\n",
       "      <td>2</td>\n",
       "    </tr>\n",
       "    <tr>\n",
       "      <th>2</th>\n",
       "      <td>53</td>\n",
       "      <td>-0.416010</td>\n",
       "      <td>-1.744778</td>\n",
       "      <td>0.137236</td>\n",
       "      <td>0.133226</td>\n",
       "      <td>1</td>\n",
       "    </tr>\n",
       "    <tr>\n",
       "      <th>3</th>\n",
       "      <td>19</td>\n",
       "      <td>-0.900681</td>\n",
       "      <td>1.726266</td>\n",
       "      <td>-1.284407</td>\n",
       "      <td>-1.181504</td>\n",
       "      <td>0</td>\n",
       "    </tr>\n",
       "    <tr>\n",
       "      <th>4</th>\n",
       "      <td>38</td>\n",
       "      <td>-1.748856</td>\n",
       "      <td>-0.124958</td>\n",
       "      <td>-1.398138</td>\n",
       "      <td>-1.312977</td>\n",
       "      <td>0</td>\n",
       "    </tr>\n",
       "  </tbody>\n",
       "</table>\n",
       "</div>"
      ],
      "text/plain": [
       "   index  SepalLengthCm  SepalWidthCm  PetalLengthCm  PetalWidthCm  clusters\n",
       "0    114      -0.052506     -0.587764       0.762759      1.579429         1\n",
       "1    136       0.553333      0.800654       1.047087      1.579429         2\n",
       "2     53      -0.416010     -1.744778       0.137236      0.133226         1\n",
       "3     19      -0.900681      1.726266      -1.284407     -1.181504         0\n",
       "4     38      -1.748856     -0.124958      -1.398138     -1.312977         0"
      ]
     },
     "execution_count": 44,
     "metadata": {},
     "output_type": "execute_result"
    }
   ],
   "source": [
    "# Merging the cluster assignment dataframe with the cluster training variable dataframe by the index variable\n",
    "\n",
    "merged_train = pd.merge(clus_train, newclus, on = 'index')\n",
    "merged_train.head()"
   ]
  },
  {
   "cell_type": "code",
   "execution_count": 46,
   "metadata": {},
   "outputs": [
    {
     "data": {
      "text/plain": [
       "1    37\n",
       "2    36\n",
       "0    32\n",
       "Name: clusters, dtype: int64"
      ]
     },
     "execution_count": 46,
     "metadata": {},
     "output_type": "execute_result"
    }
   ],
   "source": [
    "# Cluster frequencies\n",
    "\n",
    "merged_train.clusters.value_counts()"
   ]
  },
  {
   "cell_type": "code",
   "execution_count": 48,
   "metadata": {},
   "outputs": [
    {
     "name": "stdout",
     "output_type": "stream",
     "text": [
      "Clustering variables means by cluster\n",
      "               index  SepalLengthCm  SepalWidthCm  PetalLengthCm  PetalWidthCm\n",
      "clusters                                                                      \n",
      "0          24.156250      -1.021849      0.836811      -1.300400     -1.243132\n",
      "1          88.648649      -0.059056     -0.806658       0.337034      0.293126\n",
      "2         103.555556       1.061565      0.061450       0.939674      0.929368\n"
     ]
    }
   ],
   "source": [
    "# Calculating clustering variable means by cluster\n",
    "\n",
    "clustergrp = merged_train.groupby('clusters').mean()\n",
    "print(\"Clustering variables means by cluster\")\n",
    "print(clustergrp)"
   ]
  },
  {
   "cell_type": "markdown",
   "metadata": {},
   "source": [
    "#### - Above summary shows that most variables in SepalLengthCm belongs to Cluster 2, SepalWidthCm in Cluster 0, PetalLengthCm in Cluster 2, and PetalWidthCm in Cluster 2."
   ]
  },
  {
   "cell_type": "code",
   "execution_count": null,
   "metadata": {},
   "outputs": [],
   "source": []
  }
 ],
 "metadata": {
  "kernelspec": {
   "display_name": "Python 3",
   "language": "python",
   "name": "python3"
  },
  "language_info": {
   "codemirror_mode": {
    "name": "ipython",
    "version": 3
   },
   "file_extension": ".py",
   "mimetype": "text/x-python",
   "name": "python",
   "nbconvert_exporter": "python",
   "pygments_lexer": "ipython3",
   "version": "3.8.3"
  }
 },
 "nbformat": 4,
 "nbformat_minor": 4
}
